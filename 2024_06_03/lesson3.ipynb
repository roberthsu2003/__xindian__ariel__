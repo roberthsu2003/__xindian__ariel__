{
 "cells": [
  {
   "cell_type": "code",
   "execution_count": 1,
   "metadata": {},
   "outputs": [
    {
     "name": "stdout",
     "output_type": "stream",
     "text": [
      "26\n",
      "===========猜數字遊戲==============\n",
      "\n",
      "賓果!猜對了, 答案是:26\n",
      "您總共猜了1次\n",
      "42\n",
      "===========猜數字遊戲==============\n",
      "\n",
      "賓果!猜對了, 答案是:42\n",
      "您總共猜了1次\n",
      "遊戲結束\n"
     ]
    }
   ],
   "source": [
    "import random\n",
    "\n",
    "def play_game():\n",
    "    min = 1\n",
    "    max = 100\n",
    "    count = 0\n",
    "    target = random.randint(min,max)\n",
    "    print(target)\n",
    "    print(\"===========猜數字遊戲==============\\n\")\n",
    "    while(True):\n",
    "        try:\n",
    "            keyin = int(input(f\"猜數字範圍{min}~{max}:\"))\n",
    "            count += 1\n",
    "            if keyin >= min and keyin <= max:\n",
    "                if(keyin == target):\n",
    "                    print(f\"賓果!猜對了, 答案是:{target}\")\n",
    "                    print(f\"您總共猜了{count}次\")\n",
    "                    break\n",
    "                elif keyin > target:\n",
    "                    print(\"再小一點\")\n",
    "                    max = keyin-1                \n",
    "                elif keyin < target:\n",
    "                    print(\"再大一點\")\n",
    "                    min = keyin + 1\n",
    "                print(f\"您已經猜了{count}次\")    \n",
    "            else:\n",
    "                print(\"超出範圍\")\n",
    "        except Exception:\n",
    "            count += 1\n",
    "            print(\"輸入格式不定確\")\n",
    "\n",
    "\n",
    "while(True):\n",
    "    play_game()        \n",
    "    play_again = input(\"您還要繼續嗎?(y,n)\")\n",
    "    if play_again == 'n':\n",
    "        break\n",
    "print(\"遊戲結束\")"
   ]
  }
 ],
 "metadata": {
  "kernelspec": {
   "display_name": "ariel",
   "language": "python",
   "name": "python3"
  },
  "language_info": {
   "codemirror_mode": {
    "name": "ipython",
    "version": 3
   },
   "file_extension": ".py",
   "mimetype": "text/x-python",
   "name": "python",
   "nbconvert_exporter": "python",
   "pygments_lexer": "ipython3",
   "version": "3.10.14"
  }
 },
 "nbformat": 4,
 "nbformat_minor": 2
}
