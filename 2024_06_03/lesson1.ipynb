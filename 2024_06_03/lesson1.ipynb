{
 "cells": [
  {
   "cell_type": "code",
   "execution_count": 1,
   "metadata": {},
   "outputs": [
    {
     "data": {
      "text/plain": [
       "3.141592653589793"
      ]
     },
     "execution_count": 1,
     "metadata": {},
     "output_type": "execute_result"
    }
   ],
   "source": [
    "import math\n",
    "math.pi"
   ]
  },
  {
   "cell_type": "code",
   "execution_count": 13,
   "metadata": {},
   "outputs": [
    {
     "name": "stdout",
     "output_type": "stream",
     "text": [
      "4\n",
      "6\n"
     ]
    }
   ],
   "source": [
    "import random\n",
    "random.random()\n",
    "print(random.randrange(1,11)) #產生1~10\n",
    "print(random.randint(1,10))"
   ]
  },
  {
   "cell_type": "code",
   "execution_count": 33,
   "metadata": {},
   "outputs": [
    {
     "name": "stdout",
     "output_type": "stream",
     "text": [
      "===========猜數字遊戲==============\n",
      "\n",
      "輸入格式不定確\n",
      "超出範圍\n",
      "猜錯了\n",
      "您已經猜了3次\n",
      "猜錯了\n",
      "您已經猜了4次\n",
      "猜錯了\n",
      "您已經猜了5次\n",
      "猜錯了\n",
      "您已經猜了6次\n",
      "賓果!猜對了, 答案是:5\n",
      "您總共猜了7次\n",
      "遊戲結束\n"
     ]
    }
   ],
   "source": [
    "import random\n",
    "min = 1\n",
    "max = 10\n",
    "count = 0\n",
    "target = random.randint(min,max)\n",
    "#print(target)\n",
    "print(\"===========猜數字遊戲==============\\n\")\n",
    "while(True):\n",
    "    try:\n",
    "        keyin = int(input(f\"猜數字範圍{min}~{max}:\"))\n",
    "        count += 1\n",
    "        if keyin >= min and keyin <= max:\n",
    "            if(keyin == target):\n",
    "                print(f\"賓果!猜對了, 答案是:{target}\")\n",
    "                print(f\"您總共猜了{count}次\")\n",
    "                break\n",
    "            else:\n",
    "                print(\"猜錯了\")\n",
    "                print(f\"您已經猜了{count}次\")\n",
    "        else:\n",
    "            print(\"超出範圍\")\n",
    "    except Exception:\n",
    "        count += 1\n",
    "        print(\"輸入格式不定確\")\n",
    "    \n",
    "print(\"遊戲結束\")"
   ]
  }
 ],
 "metadata": {
  "kernelspec": {
   "display_name": "ariel",
   "language": "python",
   "name": "python3"
  },
  "language_info": {
   "codemirror_mode": {
    "name": "ipython",
    "version": 3
   },
   "file_extension": ".py",
   "mimetype": "text/x-python",
   "name": "python",
   "nbconvert_exporter": "python",
   "pygments_lexer": "ipython3",
   "version": "3.10.14"
  }
 },
 "nbformat": 4,
 "nbformat_minor": 2
}
