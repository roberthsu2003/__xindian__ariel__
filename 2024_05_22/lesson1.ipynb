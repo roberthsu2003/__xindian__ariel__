{
 "cells": [
  {
   "cell_type": "code",
   "execution_count": 9,
   "metadata": {},
   "outputs": [
    {
     "name": "stdout",
     "output_type": "stream",
     "text": [
      "對邊25,斜邊50,角度30\n"
     ]
    }
   ],
   "source": [
    "import math\n",
    "\n",
    "side = int(input(\"請輸入對邊:\"))\n",
    "anotherSide = int(input(\"請輸入斜邊:\"))\n",
    "radian = math.asin(side/anotherSide)\n",
    "degrees = math.degrees(radian)\n",
    "degrees = round(degrees)\n",
    "#字串插補\n",
    "print(f'對邊{side},斜邊{anotherSide},角度{degrees}')"
   ]
  },
  {
   "cell_type": "code",
   "execution_count": 11,
   "metadata": {},
   "outputs": [
    {
     "name": "stdout",
     "output_type": "stream",
     "text": [
      "15\n"
     ]
    }
   ],
   "source": [
    "n = 10\n",
    "n = n + 5\n",
    "print(n)"
   ]
  },
  {
   "cell_type": "code",
   "execution_count": 12,
   "metadata": {},
   "outputs": [
    {
     "name": "stdout",
     "output_type": "stream",
     "text": [
      "50\n"
     ]
    }
   ],
   "source": [
    "m = 5\n",
    "m = m * 10\n",
    "print(m)"
   ]
  },
  {
   "cell_type": "code",
   "execution_count": 13,
   "metadata": {},
   "outputs": [
    {
     "data": {
      "text/plain": [
       "15"
      ]
     },
     "execution_count": 13,
     "metadata": {},
     "output_type": "execute_result"
    }
   ],
   "source": [
    "n = 10\n",
    "n += 5 #複合指定運算子\n",
    "n"
   ]
  },
  {
   "cell_type": "code",
   "execution_count": 14,
   "metadata": {},
   "outputs": [
    {
     "data": {
      "text/plain": [
       "50"
      ]
     },
     "execution_count": 14,
     "metadata": {},
     "output_type": "execute_result"
    }
   ],
   "source": [
    "m = 5\n",
    "m *= 10\n",
    "m"
   ]
  },
  {
   "cell_type": "code",
   "execution_count": 18,
   "metadata": {},
   "outputs": [
    {
     "name": "stdout",
     "output_type": "stream",
     "text": [
      "天氣風險公司氣象部經理吳聖宇今天指出\n",
      "菲律賓東南方海面有熱帶擾動系統逐漸發展中\n",
      "未來幾天內可能往菲律賓東方海面靠近\n",
      "不排除有進一步發展為熱帶性低氣壓或颱風的機會\n",
      "預報模式對於它的發展程度預測仍較為分歧\n",
      "幸好大方向應該會在菲律賓以東就逐漸北轉\n",
      "然後往東北離開\n",
      "接近台灣的機會較低\n",
      "不至於有明顯影響。\n"
     ]
    }
   ],
   "source": [
    "print('天氣風險公司氣象部經理吳聖宇今天指出\\n菲律賓東南方海面有熱帶擾動系統逐漸發展中\\n未來幾天內可能往菲律賓東方海面靠近\\n不排除有進一步發展為熱帶性低氣壓或颱風的機會\\n預報模式對於它的發展程度預測仍較為分歧\\n幸好大方向應該會在菲律賓以東就逐漸北轉\\n然後往東北離開\\n接近台灣的機會較低\\n不至於有明顯影響。')"
   ]
  },
  {
   "cell_type": "code",
   "execution_count": 19,
   "metadata": {},
   "outputs": [
    {
     "data": {
      "text/plain": [
       "'天氣風險公司氣象部經理吳聖宇今天指出\\n菲律賓東南方海面有熱帶擾動系統逐漸發展中\\n'"
      ]
     },
     "execution_count": 19,
     "metadata": {},
     "output_type": "execute_result"
    }
   ],
   "source": [
    "\"天氣風險公司氣象部經理吳聖宇今天指出\\n\" + \"菲律賓東南方海面有熱帶擾動系統逐漸發展中\\n\""
   ]
  },
  {
   "cell_type": "code",
   "execution_count": 22,
   "metadata": {},
   "outputs": [
    {
     "name": "stdout",
     "output_type": "stream",
     "text": [
      "天氣風險'公司'氣象部經理吳聖宇今天指出\n",
      "菲律賓東南方海面有熱帶擾動系統逐漸發展中\n",
      "未來幾天內可能往菲律賓東方海面靠近\n",
      "不排除有進一步發展為熱帶性低氣壓或颱風的機會\n",
      "\n"
     ]
    }
   ],
   "source": [
    "message = ''\n",
    "message += \"天氣風險'公司'氣象部經理吳聖宇今天指出\\n\"\n",
    "message += \"菲律賓東南方海面有熱帶擾動系統逐漸發展中\\n\"\n",
    "message += \"未來幾天內可能往菲律賓東方海面靠近\\n\"\n",
    "message += \"不排除有進一步發展為熱帶性低氣壓或颱風的機會\\n\"\n",
    "print(message)"
   ]
  },
  {
   "cell_type": "code",
   "execution_count": 25,
   "metadata": {},
   "outputs": [
    {
     "name": "stdout",
     "output_type": "stream",
     "text": [
      "天氣風險公司氣象部經理吳聖宇今天指出\n",
      "\n",
      "菲律賓東南方海面有熱帶擾動系統逐漸發展中\n",
      "\n",
      "未來幾天內可能往菲律賓東方海面靠近\n",
      "\n",
      "不排除有進一步發展為熱帶性低氣壓或颱風的機會\n",
      "\n",
      "預報模式對於它的發展程度預測仍較為分歧\n",
      "\n",
      "幸好大方向應該會在菲律賓以東就逐漸北轉\n",
      "\n",
      "然後往東北離開\n",
      "\n",
      "接近台灣的機會較低\n",
      "\n",
      "不至於有明顯影響。\n"
     ]
    }
   ],
   "source": [
    "#多行文字\n",
    "status = '''天氣風險公司氣象部經理吳聖宇今天指出\n",
    "\n",
    "菲律賓東南方海面有熱帶擾動系統逐漸發展中\n",
    "\n",
    "未來幾天內可能往菲律賓東方海面靠近\n",
    "\n",
    "不排除有進一步發展為熱帶性低氣壓或颱風的機會\n",
    "\n",
    "預報模式對於它的發展程度預測仍較為分歧\n",
    "\n",
    "幸好大方向應該會在菲律賓以東就逐漸北轉\n",
    "\n",
    "然後往東北離開\n",
    "\n",
    "接近台灣的機會較低\n",
    "\n",
    "不至於有明顯影響。'''\n",
    "\n",
    "print(status)"
   ]
  }
 ],
 "metadata": {
  "kernelspec": {
   "display_name": "ariel",
   "language": "python",
   "name": "python3"
  },
  "language_info": {
   "codemirror_mode": {
    "name": "ipython",
    "version": 3
   },
   "file_extension": ".py",
   "mimetype": "text/x-python",
   "name": "python",
   "nbconvert_exporter": "python",
   "pygments_lexer": "ipython3",
   "version": "3.10.14"
  }
 },
 "nbformat": 4,
 "nbformat_minor": 2
}
