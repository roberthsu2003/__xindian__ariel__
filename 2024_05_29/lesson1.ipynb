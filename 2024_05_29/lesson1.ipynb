{
 "cells": [
  {
   "cell_type": "code",
   "execution_count": 4,
   "metadata": {},
   "outputs": [
    {
     "name": "stdout",
     "output_type": "stream",
     "text": [
      "That is Alice's cat.\n"
     ]
    }
   ],
   "source": [
    "print('That is Alice\\'s cat.')\n",
    "print(\"That is Alice's cat.\")"
   ]
  },
  {
   "cell_type": "code",
   "execution_count": 8,
   "metadata": {},
   "outputs": [
    {
     "name": "stdout",
     "output_type": "stream",
     "text": [
      "Hello there!\n",
      "How are you?\n",
      "I'm doing fine.\\\n"
     ]
    }
   ],
   "source": [
    "print(\"Hello there!\\nHow are you?\\nI\\'m doing fine.\\\\\")"
   ]
  },
  {
   "cell_type": "code",
   "execution_count": 10,
   "metadata": {},
   "outputs": [
    {
     "name": "stdout",
     "output_type": "stream",
     "text": [
      "That is Carol's cat.\n",
      "That is Carol\\'s cat.\n"
     ]
    }
   ],
   "source": [
    "print('That is Carol\\'s cat.')\n",
    "print(r'That is Carol\\'s cat.')"
   ]
  },
  {
   "cell_type": "code",
   "execution_count": 13,
   "metadata": {},
   "outputs": [
    {
     "data": {
      "text/plain": [
       "\"Dear Alice,Eve's cat has been arrested for catnapping, cat burglary, andextortion.Sincerely,Bob\""
      ]
     },
     "execution_count": 13,
     "metadata": {},
     "output_type": "execute_result"
    }
   ],
   "source": [
    "sentens:str = \"Dear Alice,\\\n",
    "Eve's cat has been arrested for catnapping, cat burglary, and\\\n",
    "extortion.\\\n",
    "Sincerely,\\\n",
    "Bob\"\n",
    "\n",
    "sentens"
   ]
  },
  {
   "cell_type": "code",
   "execution_count": 15,
   "metadata": {},
   "outputs": [],
   "source": [
    "#單行文字\n",
    "sentens1:str = \"氣象署今天表示，對流雲系發展旺盛，\\\n",
    "針對南投、雲嘉南、高屏等山區發布\\\n",
    "大雨特報；其中並對屏東沙漠溪、隘寮北溪、\\\n",
    "牛角灣等地發布山區暴雨災防告警，提醒民眾留意溪水暴漲。\""
   ]
  },
  {
   "cell_type": "code",
   "execution_count": 16,
   "metadata": {},
   "outputs": [
    {
     "data": {
      "text/plain": [
       "'氣象署今天表示，對流雲系發展旺盛，針對南投、雲嘉南、高屏等山區發布大雨特報；其中並對屏東沙漠溪、隘寮北溪、牛角灣等地發布山區暴雨災防告警，提醒民眾留意溪水暴漲。'"
      ]
     },
     "execution_count": 16,
     "metadata": {},
     "output_type": "execute_result"
    }
   ],
   "source": [
    "sentens1"
   ]
  },
  {
   "cell_type": "code",
   "execution_count": 17,
   "metadata": {},
   "outputs": [],
   "source": [
    "#多行文字\n",
    "sentens2:str = \"\"\"氣象署今天表示，對流雲系發展旺盛，\n",
    "針對南投、雲嘉南、高屏等山區發布\n",
    "大雨特報；其中並對屏東沙漠溪、隘寮北溪、\n",
    "牛角灣等地發布山區暴雨災防告警，提醒民眾留意溪水暴漲。\"\"\""
   ]
  },
  {
   "cell_type": "code",
   "execution_count": 18,
   "metadata": {},
   "outputs": [
    {
     "data": {
      "text/plain": [
       "'氣象署今天表示，對流雲系發展旺盛，\\n針對南投、雲嘉南、高屏等山區發布\\n大雨特報；其中並對屏東沙漠溪、隘寮北溪、\\n牛角灣等地發布山區暴雨災防告警，提醒民眾留意溪水暴漲。'"
      ]
     },
     "execution_count": 18,
     "metadata": {},
     "output_type": "execute_result"
    }
   ],
   "source": [
    "sentens2"
   ]
  },
  {
   "cell_type": "code",
   "execution_count": 19,
   "metadata": {},
   "outputs": [
    {
     "name": "stdout",
     "output_type": "stream",
     "text": [
      "氣象署今天表示，對流雲系發展旺盛，\n",
      "針對南投、雲嘉南、高屏等山區發布\n",
      "大雨特報；其中並對屏東沙漠溪、隘寮北溪、\n",
      "牛角灣等地發布山區暴雨災防告警，提醒民眾留意溪水暴漲。\n"
     ]
    }
   ],
   "source": [
    "print(sentens2)"
   ]
  },
  {
   "cell_type": "code",
   "execution_count": 23,
   "metadata": {},
   "outputs": [
    {
     "data": {
      "text/plain": [
       "26"
      ]
     },
     "execution_count": 23,
     "metadata": {},
     "output_type": "execute_result"
    }
   ],
   "source": [
    "letters = 'abcdefghijklmnopqrstuvwxyz'\n",
    "len(letters)"
   ]
  },
  {
   "cell_type": "code",
   "execution_count": 25,
   "metadata": {},
   "outputs": [
    {
     "data": {
      "text/plain": [
       "'d'"
      ]
     },
     "execution_count": 25,
     "metadata": {},
     "output_type": "execute_result"
    }
   ],
   "source": [
    "#subscript[index]\n",
    "myString1 = \"Hello World\"\n",
    "myString1[0]\n",
    "myString1[-1]"
   ]
  },
  {
   "cell_type": "code",
   "execution_count": 31,
   "metadata": {},
   "outputs": [
    {
     "data": {
      "text/plain": [
       "'Hello'"
      ]
     },
     "execution_count": 31,
     "metadata": {},
     "output_type": "execute_result"
    }
   ],
   "source": [
    "#subscript[:] ->slice\n",
    "myString1[0:5] # 後面的不包含\n",
    "myString1[-5:-1]\n",
    "myString1[-5:]\n",
    "myString1[:5]"
   ]
  },
  {
   "cell_type": "code",
   "execution_count": 33,
   "metadata": {},
   "outputs": [
    {
     "data": {
      "text/plain": [
       "'World'"
      ]
     },
     "execution_count": 33,
     "metadata": {},
     "output_type": "execute_result"
    }
   ],
   "source": [
    "myString1[:5]\n",
    "myString1[-5:]"
   ]
  },
  {
   "cell_type": "code",
   "execution_count": 37,
   "metadata": {},
   "outputs": [
    {
     "data": {
      "text/plain": [
       "'robert'"
      ]
     },
     "execution_count": 37,
     "metadata": {},
     "output_type": "execute_result"
    }
   ],
   "source": [
    "#不可變變數\n",
    "name:str = \"robert\"\n",
    "name1 = name.capitalize() #字串的實體方法\n",
    "name1\n",
    "name"
   ]
  },
  {
   "cell_type": "code",
   "execution_count": 40,
   "metadata": {},
   "outputs": [
    {
     "name": "stdout",
     "output_type": "stream",
     "text": [
      "0\n",
      "10\n"
     ]
    }
   ],
   "source": [
    "myString1 = \"Hello World\"\n",
    "print(myString1.find('H'))\n",
    "print(myString1.find('d'))"
   ]
  },
  {
   "cell_type": "code",
   "execution_count": 43,
   "metadata": {},
   "outputs": [
    {
     "data": {
      "text/plain": [
       "False"
      ]
     },
     "execution_count": 43,
     "metadata": {},
     "output_type": "execute_result"
    }
   ],
   "source": [
    "'Hello' in myString1\n",
    "'hello' in myString1"
   ]
  },
  {
   "cell_type": "code",
   "execution_count": 45,
   "metadata": {},
   "outputs": [
    {
     "data": {
      "text/plain": [
       "'hello'"
      ]
     },
     "execution_count": 45,
     "metadata": {},
     "output_type": "execute_result"
    }
   ],
   "source": [
    "#字串的實體方法\n",
    "'Hello'.upper()\n",
    "'Hello'.lower()"
   ]
  },
  {
   "cell_type": "code",
   "execution_count": 46,
   "metadata": {},
   "outputs": [
    {
     "data": {
      "text/plain": [
       "5"
      ]
     },
     "execution_count": 46,
     "metadata": {},
     "output_type": "execute_result"
    }
   ],
   "source": [
    "#內建的function\n",
    "len('Hello')"
   ]
  },
  {
   "cell_type": "code",
   "execution_count": 47,
   "metadata": {},
   "outputs": [
    {
     "name": "stdout",
     "output_type": "stream",
     "text": [
      "H\n",
      "e\n",
      "l\n",
      "l\n",
      "o\n",
      "!\n",
      " \n",
      "W\n",
      "o\n",
      "r\n",
      "l\n",
      "d\n",
      "!\n"
     ]
    }
   ],
   "source": [
    "for w in 'Hello! World!':\n",
    "    print(w)"
   ]
  }
 ],
 "metadata": {
  "kernelspec": {
   "display_name": "ariel",
   "language": "python",
   "name": "python3"
  },
  "language_info": {
   "codemirror_mode": {
    "name": "ipython",
    "version": 3
   },
   "file_extension": ".py",
   "mimetype": "text/x-python",
   "name": "python",
   "nbconvert_exporter": "python",
   "pygments_lexer": "ipython3",
   "version": "3.10.14"
  }
 },
 "nbformat": 4,
 "nbformat_minor": 2
}
