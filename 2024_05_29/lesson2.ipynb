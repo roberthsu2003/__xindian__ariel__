{
 "cells": [
  {
   "cell_type": "code",
   "execution_count": null,
   "metadata": {},
   "outputs": [],
   "source": [
    "import re\n"
   ]
  },
  {
   "cell_type": "code",
   "execution_count": 2,
   "metadata": {},
   "outputs": [
    {
     "name": "stdout",
     "output_type": "stream",
     "text": [
      "手機號碼格式不正確\n"
     ]
    }
   ],
   "source": [
    "#為何需要正規則表達式\n",
    "\n",
    "def isPhoneNumber(text):\n",
    "    if len(text) != 12:\n",
    "        return False\n",
    "    if not text[0:4].isdecimal():\n",
    "        return False\n",
    "    if text[4] != \"-\":\n",
    "        return False\n",
    "    if not text[5:8].isdecimal():\n",
    "        return False\n",
    "    if text[8] != \"-\":\n",
    "        return False\n",
    "    if not text[9:12].isdecimal():\n",
    "        return False\n",
    "    return True\n",
    "    \n",
    "phone_num = input(\"請輸入手機號碼xxxx-xxx-xxx:\")\n",
    "if isPhoneNumber(phone_num):\n",
    "    print(f\"您的手機號碼是:{phone_num:s}\")\n",
    "else:\n",
    "    print(\"手機號碼格式不正確\")"
   ]
  },
  {
   "cell_type": "code",
   "execution_count": 4,
   "metadata": {},
   "outputs": [
    {
     "name": "stdout",
     "output_type": "stream",
     "text": [
      "0925-345-876\n",
      "您的手機號碼是:0925-345-876\n"
     ]
    }
   ],
   "source": [
    "#使用正規則表達式\n",
    "import re\n",
    "def isPhoneNumber(text):\n",
    "    phoneNumRegex = re.compile(r'\\d\\d\\d\\d-\\d\\d\\d-\\d\\d\\d')\n",
    "    match = re.match(phoneNumRegex,text)\n",
    "    if re.match(phoneNumRegex,text) is None:\n",
    "        return False\n",
    "    else:\n",
    "        print(match.group())\n",
    "        return True\n",
    "\n",
    "phone_num = input(\"請輸入手機號碼xxxx-xxx-xxx:\")\n",
    "if isPhoneNumber(phone_num):\n",
    "    print(f\"您的手機號碼是:{phone_num:s}\")\n",
    "else:\n",
    "    print(\"手機號碼格式不正確\")"
   ]
  },
  {
   "cell_type": "code",
   "execution_count": 17,
   "metadata": {},
   "outputs": [
    {
     "name": "stdout",
     "output_type": "stream",
     "text": [
      "<class 're.Pattern'>\n",
      "Tina Fey\n"
     ]
    }
   ],
   "source": [
    "#建立一個pattern\n",
    "heroRegex = re.compile(r'Batman|Tina Fey')\n",
    "print(type(heroRegex))\n",
    "match1 = heroRegex.match('Tina Fey and Batman')\n",
    "#print(type(mathch1))\n",
    "#print(mathch1.group())\n",
    "if match1 == None:\n",
    "    print(\"沒有找到開頭的文字\")\n",
    "else:\n",
    "    print(match1.group())\n",
    "\n",
    "\n"
   ]
  }
 ],
 "metadata": {
  "kernelspec": {
   "display_name": "ariel",
   "language": "python",
   "name": "python3"
  },
  "language_info": {
   "codemirror_mode": {
    "name": "ipython",
    "version": 3
   },
   "file_extension": ".py",
   "mimetype": "text/x-python",
   "name": "python",
   "nbconvert_exporter": "python",
   "pygments_lexer": "ipython3",
   "version": "3.10.14"
  }
 },
 "nbformat": 4,
 "nbformat_minor": 2
}
