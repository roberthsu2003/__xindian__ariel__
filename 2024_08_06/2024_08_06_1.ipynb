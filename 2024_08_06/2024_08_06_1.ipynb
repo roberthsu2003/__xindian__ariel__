{
 "cells": [
  {
   "cell_type": "code",
   "execution_count": 17,
   "metadata": {},
   "outputs": [
    {
     "name": "stdout",
     "output_type": "stream",
     "text": [
      "比對成功\n",
      "0917-125-960\n",
      "0917\n",
      "125\n",
      "960\n"
     ]
    }
   ],
   "source": [
    "import re\n",
    "phoneNumRegex = re.compile(r'(\\d\\d\\d\\d)-(\\d\\d\\d)-(\\d\\d\\d)')\n",
    "result = re.match(phoneNumRegex,'0917-125-960')\n",
    "if result is None:\n",
    "    print(\"比對不成功\")\n",
    "else:\n",
    "    print(\"比對成功\")\n",
    "    print(result.group(0))\n",
    "    print(result.group(1))\n",
    "    print(result.group(2))\n",
    "    print(result.group(3))"
   ]
  },
  {
   "cell_type": "code",
   "execution_count": 18,
   "metadata": {},
   "outputs": [
    {
     "name": "stdout",
     "output_type": "stream",
     "text": [
      "比對成功\n",
      "0917-125-960\n",
      "0917\n",
      "125\n",
      "960\n"
     ]
    }
   ],
   "source": [
    "import re\n",
    "phoneNumRegex = re.compile(r'(\\d\\d\\d\\d)-(\\d\\d\\d)-(\\d\\d\\d)')\n",
    "result = phoneNumRegex.match('0917-125-960')\n",
    "if result is None:\n",
    "    print(\"比對不成功\")\n",
    "else:\n",
    "    print(\"比對成功\")\n",
    "    print(result.group(0))\n",
    "    print(result.group(1))\n",
    "    print(result.group(2))\n",
    "    print(result.group(3))"
   ]
  }
 ],
 "metadata": {
  "kernelspec": {
   "display_name": "ariel",
   "language": "python",
   "name": "python3"
  },
  "language_info": {
   "codemirror_mode": {
    "name": "ipython",
    "version": 3
   },
   "file_extension": ".py",
   "mimetype": "text/x-python",
   "name": "python",
   "nbconvert_exporter": "python",
   "pygments_lexer": "ipython3",
   "version": "3.10.14"
  }
 },
 "nbformat": 4,
 "nbformat_minor": 2
}
