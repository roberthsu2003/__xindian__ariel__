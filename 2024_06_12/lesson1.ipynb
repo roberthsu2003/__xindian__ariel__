{
 "cells": [
  {
   "cell_type": "code",
   "execution_count": 17,
   "metadata": {},
   "outputs": [],
   "source": [
    "#自訂的class\n",
    "class Person():\n",
    "    def __init__(self,n:str,a:int):\n",
    "        self.name = n\n",
    "        self.age = a\n",
    "\n",
    "    def __repr__(self):\n",
    "        return f\"我叫做{self.name}\""
   ]
  },
  {
   "cell_type": "code",
   "execution_count": 20,
   "metadata": {},
   "outputs": [
    {
     "name": "stdout",
     "output_type": "stream",
     "text": [
      "徐國堂\n",
      "35\n",
      "我叫做徐國堂\n"
     ]
    }
   ],
   "source": [
    "p1 = Person(n=\"徐國堂\",a=35)\n",
    "print(p1.name)\n",
    "print(p1.age)\n",
    "print(p1)"
   ]
  },
  {
   "cell_type": "code",
   "execution_count": 21,
   "metadata": {},
   "outputs": [
    {
     "name": "stdout",
     "output_type": "stream",
     "text": [
      "robert\n",
      "45\n"
     ]
    }
   ],
   "source": [
    "p2 = Person(n=\"robert\",a=45)\n",
    "print(p2.name)\n",
    "print(p2.age)"
   ]
  }
 ],
 "metadata": {
  "kernelspec": {
   "display_name": "ariel",
   "language": "python",
   "name": "python3"
  },
  "language_info": {
   "codemirror_mode": {
    "name": "ipython",
    "version": 3
   },
   "file_extension": ".py",
   "mimetype": "text/x-python",
   "name": "python",
   "nbconvert_exporter": "python",
   "pygments_lexer": "ipython3",
   "version": "3.10.14"
  }
 },
 "nbformat": 4,
 "nbformat_minor": 2
}
