{
 "cells": [
  {
   "cell_type": "code",
   "execution_count": 14,
   "metadata": {},
   "outputs": [],
   "source": [
    "class Person():\n",
    "    def __init__(self,name,age=20):\n",
    "        self.name = name\n",
    "        self.age = age\n",
    "\n"
   ]
  },
  {
   "cell_type": "code",
   "execution_count": 16,
   "metadata": {},
   "outputs": [],
   "source": [
    "p1 = Person(\"徐國堂\",age=50)\n",
    "p2 = Person(\"robert\",age=45)\n",
    "p3 = Person(name=\"Ariel\",age=18)"
   ]
  },
  {
   "cell_type": "code",
   "execution_count": 10,
   "metadata": {},
   "outputs": [
    {
     "name": "stdout",
     "output_type": "stream",
     "text": [
      "徐國堂\n",
      "robert\n",
      "Ariel\n"
     ]
    }
   ],
   "source": [
    "print(p1.name)\n",
    "print(p2.name)\n",
    "print(p3.name)"
   ]
  },
  {
   "cell_type": "code",
   "execution_count": 17,
   "metadata": {},
   "outputs": [
    {
     "name": "stdout",
     "output_type": "stream",
     "text": [
      "50\n",
      "45\n",
      "18\n"
     ]
    }
   ],
   "source": [
    "print(p1.age)\n",
    "print(p2.age)\n",
    "print(p3.age)"
   ]
  }
 ],
 "metadata": {
  "kernelspec": {
   "display_name": "ariel",
   "language": "python",
   "name": "python3"
  },
  "language_info": {
   "codemirror_mode": {
    "name": "ipython",
    "version": 3
   },
   "file_extension": ".py",
   "mimetype": "text/x-python",
   "name": "python",
   "nbconvert_exporter": "python",
   "pygments_lexer": "ipython3",
   "version": "3.10.14"
  }
 },
 "nbformat": 4,
 "nbformat_minor": 2
}
