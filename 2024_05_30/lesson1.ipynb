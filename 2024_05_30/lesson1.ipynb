{
 "cells": [
  {
   "cell_type": "code",
   "execution_count": 7,
   "metadata": {},
   "outputs": [
    {
     "name": "stdout",
     "output_type": "stream",
     "text": [
      "<class 're.Match'>\n",
      "0926-123-456\n"
     ]
    }
   ],
   "source": [
    "import re\n",
    "pattern = re.compile(r'\\d\\d\\d\\d-\\d\\d\\d-\\d\\d\\d')\n",
    "test_string = '0926-123-456'\n",
    "match1 = re.match(pattern,test_string)\n",
    "\n",
    "if match1 is None:\n",
    "    print(\"格式不符\")\n",
    "else:\n",
    "    print(type(match1))\n",
    "    print(match1.group())"
   ]
  },
  {
   "cell_type": "code",
   "execution_count": 8,
   "metadata": {},
   "outputs": [
    {
     "name": "stdout",
     "output_type": "stream",
     "text": [
      "<class 're.Match'>\n",
      "0926-123-456\n",
      "0926\n",
      "123\n",
      "456\n"
     ]
    }
   ],
   "source": [
    "import re\n",
    "pattern = re.compile(r'(\\d\\d\\d\\d)-(\\d\\d\\d)-(\\d\\d\\d)')\n",
    "test_string = '0926-123-456'\n",
    "match1 = re.match(pattern,test_string)\n",
    "\n",
    "if match1 is None:\n",
    "    print(\"格式不符\")\n",
    "else:\n",
    "    print(type(match1))\n",
    "    print(match1.group())\n",
    "    print(match1.group(1))\n",
    "    print(match1.group(2))\n",
    "    print(match1.group(3))"
   ]
  },
  {
   "cell_type": "code",
   "execution_count": 10,
   "metadata": {},
   "outputs": [
    {
     "name": "stdout",
     "output_type": "stream",
     "text": [
      "<class 're.Match'>\n",
      "(0926)-123-456\n",
      "(0926)\n",
      "123\n",
      "456\n"
     ]
    }
   ],
   "source": [
    "#(xxxx)-xxx-xxx\n",
    "import re\n",
    "pattern = re.compile(r'(\\(\\d\\d\\d\\d\\))-(\\d\\d\\d)-(\\d\\d\\d)')\n",
    "test_string = '(0926)-123-456'\n",
    "match1 = re.match(pattern,test_string)\n",
    "\n",
    "if match1 is None:\n",
    "    print(\"格式不符\")\n",
    "else:\n",
    "    print(type(match1))\n",
    "    print(match1.group())\n",
    "    print(match1.group(1))\n",
    "    print(match1.group(2))\n",
    "    print(match1.group(3))"
   ]
  }
 ],
 "metadata": {
  "kernelspec": {
   "display_name": "ariel",
   "language": "python",
   "name": "python3"
  },
  "language_info": {
   "codemirror_mode": {
    "name": "ipython",
    "version": 3
   },
   "file_extension": ".py",
   "mimetype": "text/x-python",
   "name": "python",
   "nbconvert_exporter": "python",
   "pygments_lexer": "ipython3",
   "version": "3.10.14"
  }
 },
 "nbformat": 4,
 "nbformat_minor": 2
}
