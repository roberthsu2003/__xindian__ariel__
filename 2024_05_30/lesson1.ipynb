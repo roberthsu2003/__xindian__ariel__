{
 "cells": [
  {
   "cell_type": "code",
   "execution_count": 7,
   "metadata": {},
   "outputs": [
    {
     "name": "stdout",
     "output_type": "stream",
     "text": [
      "<class 're.Match'>\n",
      "0926-123-456\n"
     ]
    }
   ],
   "source": [
    "import re\n",
    "pattern = re.compile(r'\\d\\d\\d\\d-\\d\\d\\d-\\d\\d\\d')\n",
    "test_string = '0926-123-456'\n",
    "match1 = re.match(pattern,test_string)\n",
    "\n",
    "if match1 is None:\n",
    "    print(\"格式不符\")\n",
    "else:\n",
    "    print(type(match1))\n",
    "    print(match1.group())"
   ]
  },
  {
   "cell_type": "code",
   "execution_count": 8,
   "metadata": {},
   "outputs": [
    {
     "name": "stdout",
     "output_type": "stream",
     "text": [
      "<class 're.Match'>\n",
      "0926-123-456\n",
      "0926\n",
      "123\n",
      "456\n"
     ]
    }
   ],
   "source": [
    "import re\n",
    "pattern = re.compile(r'(\\d\\d\\d\\d)-(\\d\\d\\d)-(\\d\\d\\d)')\n",
    "test_string = '0926-123-456'\n",
    "match1 = re.match(pattern,test_string)\n",
    "\n",
    "if match1 is None:\n",
    "    print(\"格式不符\")\n",
    "else:\n",
    "    print(type(match1))\n",
    "    print(match1.group())\n",
    "    print(match1.group(1))\n",
    "    print(match1.group(2))\n",
    "    print(match1.group(3))"
   ]
  },
  {
   "cell_type": "code",
   "execution_count": 10,
   "metadata": {},
   "outputs": [
    {
     "name": "stdout",
     "output_type": "stream",
     "text": [
      "<class 're.Match'>\n",
      "(0926)-123-456\n",
      "(0926)\n",
      "123\n",
      "456\n"
     ]
    }
   ],
   "source": [
    "#(xxxx)-xxx-xxx\n",
    "import re\n",
    "pattern = re.compile(r'(\\(\\d\\d\\d\\d\\))-(\\d\\d\\d)-(\\d\\d\\d)')\n",
    "test_string = '(0926)-123-456'\n",
    "match1 = re.match(pattern,test_string)\n",
    "\n",
    "if match1 is None:\n",
    "    print(\"格式不符\")\n",
    "else:\n",
    "    print(type(match1))\n",
    "    print(match1.group())\n",
    "    print(match1.group(1))\n",
    "    print(match1.group(2))\n",
    "    print(match1.group(3))"
   ]
  },
  {
   "cell_type": "code",
   "execution_count": 12,
   "metadata": {},
   "outputs": [
    {
     "name": "stdout",
     "output_type": "stream",
     "text": [
      "<class 're.Match'>\n",
      "(0926)-123-456\n",
      "(0926)\n",
      "123\n",
      "456\n"
     ]
    }
   ],
   "source": [
    "#(xxxx)-xxx-xxx, xxxx-xxx-xxx\n",
    "import re\n",
    "pattern = re.compile(r'(\\(\\d\\d\\d\\d\\)|\\d\\d\\d\\d)-(\\d\\d\\d)-(\\d\\d\\d)')\n",
    "test_string = '(0926)-123-456'\n",
    "match1 = re.match(pattern,test_string)\n",
    "\n",
    "if match1 is None:\n",
    "    print(\"格式不符\")\n",
    "else:\n",
    "    print(type(match1))\n",
    "    print(match1.group())\n",
    "    print(match1.group(1))\n",
    "    print(match1.group(2))\n",
    "    print(match1.group(3))"
   ]
  },
  {
   "cell_type": "code",
   "execution_count": 14,
   "metadata": {},
   "outputs": [
    {
     "name": "stdout",
     "output_type": "stream",
     "text": [
      "Batman\n",
      "Tina Fey\n"
     ]
    }
   ],
   "source": [
    "heroRegex:re.Pattern = re.compile(r'Batman|Tina Fey')\n",
    "match1:re.Match = heroRegex.match('Batman and Tina Fey')\n",
    "print(match1.group())\n",
    "\n",
    "match2:re.Match = heroRegex.match('Tina Fey and Batman')\n",
    "print(match2.group())"
   ]
  },
  {
   "cell_type": "code",
   "execution_count": 17,
   "metadata": {},
   "outputs": [
    {
     "name": "stdout",
     "output_type": "stream",
     "text": [
      "Batmobile\n",
      "mobile\n"
     ]
    }
   ],
   "source": [
    "batRegex = re.compile(r'Bat(man|mobile|copter|bat)')\n",
    "mo = batRegex.search(' lost a wheel Batmobile')\n",
    "print(mo.group())\n",
    "print(mo.group(1))"
   ]
  },
  {
   "cell_type": "code",
   "execution_count": 18,
   "metadata": {},
   "outputs": [
    {
     "name": "stdout",
     "output_type": "stream",
     "text": [
      "Batbat\n",
      "bat\n"
     ]
    }
   ],
   "source": [
    "batRegex = re.compile(r'Bat(man|mobile|copter|bat)')\n",
    "mo = batRegex.search('lost Batbat a wheel Batmobile')\n",
    "print(mo.group())\n",
    "print(mo.group(1))"
   ]
  },
  {
   "cell_type": "code",
   "execution_count": 20,
   "metadata": {},
   "outputs": [
    {
     "name": "stdout",
     "output_type": "stream",
     "text": [
      "['Batbat', 'Batmobile']\n"
     ]
    }
   ],
   "source": [
    "batRegex = re.compile(r'Batman|Batmobile|Batcopter|Batbat')\n",
    "li:list = batRegex.findall('lost Batbat a wheel Batmobile')\n",
    "print(li)\n"
   ]
  }
 ],
 "metadata": {
  "kernelspec": {
   "display_name": "ariel",
   "language": "python",
   "name": "python3"
  },
  "language_info": {
   "codemirror_mode": {
    "name": "ipython",
    "version": 3
   },
   "file_extension": ".py",
   "mimetype": "text/x-python",
   "name": "python",
   "nbconvert_exporter": "python",
   "pygments_lexer": "ipython3",
   "version": "3.10.14"
  }
 },
 "nbformat": 4,
 "nbformat_minor": 2
}
