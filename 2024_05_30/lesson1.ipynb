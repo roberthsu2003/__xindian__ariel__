{
 "cells": [
  {
   "cell_type": "code",
   "execution_count": 7,
   "metadata": {},
   "outputs": [
    {
     "name": "stdout",
     "output_type": "stream",
     "text": [
      "<class 're.Match'>\n",
      "0926-123-456\n"
     ]
    }
   ],
   "source": [
    "import re\n",
    "pattern = re.compile(r'\\d\\d\\d\\d-\\d\\d\\d-\\d\\d\\d')\n",
    "test_string = '0926-123-456'\n",
    "match1 = re.match(pattern,test_string)\n",
    "\n",
    "if match1 is None:\n",
    "    print(\"格式不符\")\n",
    "else:\n",
    "    print(type(match1))\n",
    "    print(match1.group())"
   ]
  },
  {
   "cell_type": "code",
   "execution_count": 8,
   "metadata": {},
   "outputs": [
    {
     "name": "stdout",
     "output_type": "stream",
     "text": [
      "<class 're.Match'>\n",
      "0926-123-456\n",
      "0926\n",
      "123\n",
      "456\n"
     ]
    }
   ],
   "source": [
    "import re\n",
    "pattern = re.compile(r'(\\d\\d\\d\\d)-(\\d\\d\\d)-(\\d\\d\\d)')\n",
    "test_string = '0926-123-456'\n",
    "match1 = re.match(pattern,test_string)\n",
    "\n",
    "if match1 is None:\n",
    "    print(\"格式不符\")\n",
    "else:\n",
    "    print(type(match1))\n",
    "    print(match1.group())\n",
    "    print(match1.group(1))\n",
    "    print(match1.group(2))\n",
    "    print(match1.group(3))"
   ]
  },
  {
   "cell_type": "code",
   "execution_count": 10,
   "metadata": {},
   "outputs": [
    {
     "name": "stdout",
     "output_type": "stream",
     "text": [
      "<class 're.Match'>\n",
      "(0926)-123-456\n",
      "(0926)\n",
      "123\n",
      "456\n"
     ]
    }
   ],
   "source": [
    "#(xxxx)-xxx-xxx\n",
    "import re\n",
    "pattern = re.compile(r'(\\(\\d\\d\\d\\d\\))-(\\d\\d\\d)-(\\d\\d\\d)')\n",
    "test_string = '(0926)-123-456'\n",
    "match1 = re.match(pattern,test_string)\n",
    "\n",
    "if match1 is None:\n",
    "    print(\"格式不符\")\n",
    "else:\n",
    "    print(type(match1))\n",
    "    print(match1.group())\n",
    "    print(match1.group(1))\n",
    "    print(match1.group(2))\n",
    "    print(match1.group(3))"
   ]
  },
  {
   "cell_type": "code",
   "execution_count": 12,
   "metadata": {},
   "outputs": [
    {
     "name": "stdout",
     "output_type": "stream",
     "text": [
      "<class 're.Match'>\n",
      "(0926)-123-456\n",
      "(0926)\n",
      "123\n",
      "456\n"
     ]
    }
   ],
   "source": [
    "#(xxxx)-xxx-xxx, xxxx-xxx-xxx\n",
    "import re\n",
    "pattern = re.compile(r'(\\(\\d\\d\\d\\d\\)|\\d\\d\\d\\d)-(\\d\\d\\d)-(\\d\\d\\d)')\n",
    "test_string = '(0926)-123-456'\n",
    "match1 = re.match(pattern,test_string)\n",
    "\n",
    "if match1 is None:\n",
    "    print(\"格式不符\")\n",
    "else:\n",
    "    print(type(match1))\n",
    "    print(match1.group())\n",
    "    print(match1.group(1))\n",
    "    print(match1.group(2))\n",
    "    print(match1.group(3))"
   ]
  },
  {
   "cell_type": "code",
   "execution_count": 14,
   "metadata": {},
   "outputs": [
    {
     "name": "stdout",
     "output_type": "stream",
     "text": [
      "Batman\n",
      "Tina Fey\n"
     ]
    }
   ],
   "source": [
    "heroRegex:re.Pattern = re.compile(r'Batman|Tina Fey')\n",
    "match1:re.Match = heroRegex.match('Batman and Tina Fey')\n",
    "print(match1.group())\n",
    "\n",
    "match2:re.Match = heroRegex.match('Tina Fey and Batman')\n",
    "print(match2.group())"
   ]
  },
  {
   "cell_type": "code",
   "execution_count": 17,
   "metadata": {},
   "outputs": [
    {
     "name": "stdout",
     "output_type": "stream",
     "text": [
      "Batmobile\n",
      "mobile\n"
     ]
    }
   ],
   "source": [
    "batRegex = re.compile(r'Bat(man|mobile|copter|bat)')\n",
    "mo = batRegex.search(' lost a wheel Batmobile')\n",
    "print(mo.group())\n",
    "print(mo.group(1))"
   ]
  },
  {
   "cell_type": "code",
   "execution_count": 18,
   "metadata": {},
   "outputs": [
    {
     "name": "stdout",
     "output_type": "stream",
     "text": [
      "Batbat\n",
      "bat\n"
     ]
    }
   ],
   "source": [
    "batRegex = re.compile(r'Bat(man|mobile|copter|bat)')\n",
    "mo = batRegex.search('lost Batbat a wheel Batmobile')\n",
    "print(mo.group())\n",
    "print(mo.group(1))"
   ]
  },
  {
   "cell_type": "code",
   "execution_count": 20,
   "metadata": {},
   "outputs": [
    {
     "name": "stdout",
     "output_type": "stream",
     "text": [
      "['Batbat', 'Batmobile']\n"
     ]
    }
   ],
   "source": [
    "batRegex = re.compile(r'Batman|Batmobile|Batcopter|Batbat')\n",
    "li:list = batRegex.findall('lost Batbat a wheel Batmobile')\n",
    "print(li)\n"
   ]
  },
  {
   "cell_type": "code",
   "execution_count": 23,
   "metadata": {},
   "outputs": [
    {
     "name": "stdout",
     "output_type": "stream",
     "text": [
      "2024-12-01\n"
     ]
    }
   ],
   "source": [
    "#匹配日期格式\n",
    "#- 有效日期：`2024-05-29`\n",
    "#- 无效日期：`2024-13-01`\n",
    "pattern_str:str = r'\\d{4}-(0[1-9]|1[0-2])-(0[1-9]|[12][0-9]|3[01])'\n",
    "\n",
    "batRegex:re.Pattern = re.compile(pattern_str)\n",
    "match1:re.Match = batRegex.match('2024-12-01')\n",
    "if match1 is None:\n",
    "    print(\"不符合格式\")\n",
    "else:\n",
    "    print(match1.group())"
   ]
  },
  {
   "cell_type": "code",
   "execution_count": 26,
   "metadata": {},
   "outputs": [
    {
     "name": "stdout",
     "output_type": "stream",
     "text": [
      "不符合格式\n"
     ]
    }
   ],
   "source": [
    "#- 有效电话号码：(123) 456-7890,123-456-7890\n",
    "#- 無有效电话号码：123-45-6789\n",
    "\n",
    "pattern_str:str = r'^(\\(\\d{3}\\) |\\d{3}-)\\d{3}-\\d{4}$'\n",
    "batRegex:re.Pattern = re.compile(pattern_str)\n",
    "match1:re.Match = batRegex.match('123-45-6789')\n",
    "if match1 is None:\n",
    "    print(\"不符合格式\")\n",
    "else:\n",
    "    print(match1.group())"
   ]
  }
 ],
 "metadata": {
  "kernelspec": {
   "display_name": "ariel",
   "language": "python",
   "name": "python3"
  },
  "language_info": {
   "codemirror_mode": {
    "name": "ipython",
    "version": 3
   },
   "file_extension": ".py",
   "mimetype": "text/x-python",
   "name": "python",
   "nbconvert_exporter": "python",
   "pygments_lexer": "ipython3",
   "version": "3.10.14"
  }
 },
 "nbformat": 4,
 "nbformat_minor": 2
}
