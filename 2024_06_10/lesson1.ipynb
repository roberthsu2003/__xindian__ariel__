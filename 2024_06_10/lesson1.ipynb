{
 "cells": [
  {
   "cell_type": "code",
   "execution_count": 1,
   "metadata": {},
   "outputs": [],
   "source": [
    "def menu(wine:str, entree:str, dessert:str) -> None:\n",
    "    print(f\"wine:{wine}\")\n",
    "    print(f\"entree:{entree}\")\n",
    "    print(f\"dessert:{dessert}\")"
   ]
  },
  {
   "cell_type": "code",
   "execution_count": 2,
   "metadata": {},
   "outputs": [
    {
     "name": "stdout",
     "output_type": "stream",
     "text": [
      "wine:白酒\n",
      "entree:牛排\n",
      "dessert:蛋糕\n"
     ]
    }
   ],
   "source": [
    "#引數值的呼叫,依參數的順序\n",
    "menu('白酒','牛排','蛋糕')"
   ]
  },
  {
   "cell_type": "code",
   "execution_count": 3,
   "metadata": {},
   "outputs": [
    {
     "name": "stdout",
     "output_type": "stream",
     "text": [
      "wine:白酒\n",
      "entree:牛排\n",
      "dessert:蛋糕\n"
     ]
    }
   ],
   "source": [
    "#引數名稱的呼叫,不依照順序\n",
    "menu(wine='白酒',entree='牛排',dessert='蛋糕')"
   ]
  },
  {
   "cell_type": "code",
   "execution_count": 4,
   "metadata": {},
   "outputs": [
    {
     "name": "stdout",
     "output_type": "stream",
     "text": [
      "wine:白酒\n",
      "entree:牛排\n",
      "dessert:蛋糕\n"
     ]
    }
   ],
   "source": [
    "menu(entree='牛排',dessert='蛋糕',wine='白酒')"
   ]
  },
  {
   "cell_type": "code",
   "execution_count": 5,
   "metadata": {},
   "outputs": [],
   "source": [
    "#混合呼叫\n",
    "#前面要用引數值呼叫\n",
    "#後面要用引數名稱的呼叫\n",
    "def menu(wine:str, entree:str, dessert:str) -> None:\n",
    "    print(f\"wine:{wine}\")\n",
    "    print(f\"entree:{entree}\")\n",
    "    print(f\"dessert:{dessert}\")\n",
    "\n"
   ]
  },
  {
   "cell_type": "code",
   "execution_count": 6,
   "metadata": {},
   "outputs": [
    {
     "name": "stdout",
     "output_type": "stream",
     "text": [
      "wine:白酒\n",
      "entree:牛排\n",
      "dessert:蛋糕\n"
     ]
    }
   ],
   "source": [
    "menu('白酒',entree='牛排',dessert='蛋糕')"
   ]
  },
  {
   "cell_type": "code",
   "execution_count": 7,
   "metadata": {},
   "outputs": [
    {
     "name": "stdout",
     "output_type": "stream",
     "text": [
      "wine:白酒\n",
      "entree:牛排\n",
      "dessert:蛋糕\n"
     ]
    }
   ],
   "source": [
    "menu('白酒',dessert='蛋糕',entree='牛排')"
   ]
  },
  {
   "cell_type": "code",
   "execution_count": 8,
   "metadata": {},
   "outputs": [],
   "source": [
    "#參數有default值\n",
    "#有default值的參數,一定要放在最後面\n",
    "def menu(wine:str, entree:str, dessert:str='奶昔') -> None:\n",
    "    print(f\"wine:{wine}\")\n",
    "    print(f\"entree:{entree}\")\n",
    "    print(f\"dessert:{dessert}\")"
   ]
  },
  {
   "cell_type": "code",
   "execution_count": 9,
   "metadata": {},
   "outputs": [
    {
     "name": "stdout",
     "output_type": "stream",
     "text": [
      "wine:白酒\n",
      "entree:牛排\n",
      "dessert:奶昔\n"
     ]
    }
   ],
   "source": [
    "menu('白酒','牛排')"
   ]
  },
  {
   "cell_type": "code",
   "execution_count": 10,
   "metadata": {},
   "outputs": [
    {
     "name": "stdout",
     "output_type": "stream",
     "text": [
      "wine:白酒\n",
      "entree:牛排\n",
      "dessert:蛋糕\n"
     ]
    }
   ],
   "source": [
    "menu('白酒','牛排',dessert='蛋糕')"
   ]
  },
  {
   "cell_type": "code",
   "execution_count": 11,
   "metadata": {},
   "outputs": [
    {
     "name": "stdout",
     "output_type": "stream",
     "text": [
      "wine:白酒\n",
      "entree:牛排\n",
      "dessert:奶昔\n"
     ]
    }
   ],
   "source": [
    "#參數有default值\n",
    "#有default值的參數,一定要放在最後面\n",
    "def menu(wine:str, entree:str='牛排', dessert:str='奶昔') -> None:\n",
    "    print(f\"wine:{wine}\")\n",
    "    print(f\"entree:{entree}\")\n",
    "    print(f\"dessert:{dessert}\")\n",
    "\n",
    "menu('白酒')"
   ]
  },
  {
   "cell_type": "code",
   "execution_count": 13,
   "metadata": {},
   "outputs": [
    {
     "name": "stdout",
     "output_type": "stream",
     "text": [
      "wine:白酒\n",
      "entree:牛排\n",
      "dessert:蛋糕\n"
     ]
    }
   ],
   "source": [
    "menu('白酒',dessert='蛋糕')"
   ]
  },
  {
   "cell_type": "code",
   "execution_count": 14,
   "metadata": {},
   "outputs": [
    {
     "name": "stdout",
     "output_type": "stream",
     "text": [
      "wine:白酒\n",
      "entree:雞排\n",
      "dessert:蛋糕\n"
     ]
    }
   ],
   "source": [
    "menu('白酒',dessert='蛋糕',entree='雞排')"
   ]
  },
  {
   "cell_type": "code",
   "execution_count": 16,
   "metadata": {},
   "outputs": [],
   "source": [
    "def multiply(a:int=10, b:int=20) -> int:\n",
    "    return a * b;\n"
   ]
  },
  {
   "cell_type": "code",
   "execution_count": 17,
   "metadata": {},
   "outputs": [
    {
     "data": {
      "text/plain": [
       "200"
      ]
     },
     "execution_count": 17,
     "metadata": {},
     "output_type": "execute_result"
    }
   ],
   "source": [
    "multiply()"
   ]
  },
  {
   "cell_type": "code",
   "execution_count": 18,
   "metadata": {},
   "outputs": [
    {
     "data": {
      "text/plain": [
       "25"
      ]
     },
     "execution_count": 18,
     "metadata": {},
     "output_type": "execute_result"
    }
   ],
   "source": [
    "multiply(a=5,b=5)"
   ]
  },
  {
   "cell_type": "code",
   "execution_count": 19,
   "metadata": {},
   "outputs": [],
   "source": [
    "#沒有限定引數值呼叫的數量\n",
    "def print_args(*args):\n",
    "    print(args)"
   ]
  },
  {
   "cell_type": "code",
   "execution_count": 20,
   "metadata": {},
   "outputs": [
    {
     "name": "stdout",
     "output_type": "stream",
     "text": [
      "(1, 2, 4, 'a', 'b', 'c')\n"
     ]
    }
   ],
   "source": [
    "print_args(1,2,4,'a','b','c')"
   ]
  },
  {
   "cell_type": "code",
   "execution_count": 21,
   "metadata": {},
   "outputs": [
    {
     "name": "stdout",
     "output_type": "stream",
     "text": [
      "(1, 2, 4, 'a', 'b', 'c', 10, 20, 30)\n"
     ]
    }
   ],
   "source": [
    "print_args(1,2,4,'a','b','c',10,20,30)"
   ]
  },
  {
   "cell_type": "code",
   "execution_count": 22,
   "metadata": {},
   "outputs": [
    {
     "name": "stdout",
     "output_type": "stream",
     "text": [
      "()\n"
     ]
    }
   ],
   "source": [
    "print_args()"
   ]
  },
  {
   "cell_type": "code",
   "execution_count": 24,
   "metadata": {},
   "outputs": [
    {
     "name": "stdout",
     "output_type": "stream",
     "text": [
      "\n",
      "1 2 3 5 a b c\n"
     ]
    }
   ],
   "source": [
    "print()\n",
    "print(1,2,3,5,'a','b','c')"
   ]
  },
  {
   "cell_type": "code",
   "execution_count": 25,
   "metadata": {},
   "outputs": [
    {
     "name": "stdout",
     "output_type": "stream",
     "text": [
      "1-2-3-5-a-b-c\n"
     ]
    }
   ],
   "source": [
    "print(1,2,3,5,'a','b','c',sep='-')"
   ]
  },
  {
   "cell_type": "code",
   "execution_count": 27,
   "metadata": {},
   "outputs": [
    {
     "name": "stdout",
     "output_type": "stream",
     "text": [
      "1-2-3-5-a-b-c.\n"
     ]
    }
   ],
   "source": [
    "print(1,2,3,5,'a','b','c',end='.\\n',sep='-')"
   ]
  }
 ],
 "metadata": {
  "kernelspec": {
   "display_name": "ariel",
   "language": "python",
   "name": "python3"
  },
  "language_info": {
   "codemirror_mode": {
    "name": "ipython",
    "version": 3
   },
   "file_extension": ".py",
   "mimetype": "text/x-python",
   "name": "python",
   "nbconvert_exporter": "python",
   "pygments_lexer": "ipython3",
   "version": "3.10.14"
  }
 },
 "nbformat": 4,
 "nbformat_minor": 2
}
